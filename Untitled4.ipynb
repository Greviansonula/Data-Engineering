{
 "cells": [
  {
   "cell_type": "code",
   "execution_count": null,
   "id": "78e0f9f5",
   "metadata": {},
   "outputs": [
    {
     "data": {
      "text/plain": [
       "Intitializing Scala interpreter ..."
      ]
     },
     "metadata": {},
     "output_type": "display_data"
    }
   ],
   "source": [
    "var capital = Map(\"US\" -> \"Washington\", \"France\" -> \"Paris\")\n",
    "capital += (\"Japan\" -> \"Tokyo\")\n",
    "println(capital(\"France\"))"
   ]
  },
  {
   "cell_type": "code",
   "execution_count": null,
   "id": "5650e0f5",
   "metadata": {},
   "outputs": [
    {
     "data": {
      "text/plain": [
       "Intitializing Scala interpreter ..."
      ]
     },
     "metadata": {},
     "output_type": "display_data"
    }
   ],
   "source": [
    "case BinOp(op, left, right) =>\n",
    "val opPrec = precedence(op)\n",
    "val l = format(left, opPrec)\n",
    "val r = format(right, opPrec + 1)\n",
    "val oper = l beside elem(\" \"+ op +\" \") beside r\n",
    "if (enclPrec <= opPrec) oper\n",
    "else elem(\"(\") beside oper beside elem(\")\")"
   ]
  },
  {
   "cell_type": "code",
   "execution_count": null,
   "id": "1d462e9c",
   "metadata": {},
   "outputs": [],
   "source": []
  }
 ],
 "metadata": {
  "kernelspec": {
   "display_name": "spylon-kernel",
   "language": "scala",
   "name": "spylon-kernel"
  },
  "language_info": {
   "codemirror_mode": "text/x-scala",
   "file_extension": ".scala",
   "help_links": [
    {
     "text": "MetaKernel Magics",
     "url": "https://metakernel.readthedocs.io/en/latest/source/README.html"
    }
   ],
   "mimetype": "text/x-scala",
   "name": "scala",
   "pygments_lexer": "scala",
   "version": "0.4.1"
  }
 },
 "nbformat": 4,
 "nbformat_minor": 5
}
